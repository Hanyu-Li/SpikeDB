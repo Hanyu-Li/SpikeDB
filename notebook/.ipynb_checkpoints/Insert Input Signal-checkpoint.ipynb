{
 "metadata": {
  "name": ""
 },
 "nbformat": 3,
 "nbformat_minor": 0,
 "worksheets": [
  {
   "cells": [
    {
     "cell_type": "code",
     "collapsed": false,
     "input": [
      "cd ~/Documents/SpikeDB/src"
     ],
     "language": "python",
     "metadata": {},
     "outputs": [
      {
       "output_type": "stream",
       "stream": "stdout",
       "text": [
        "/Users/hanyuli/Documents/SpikeDB/src\n"
       ]
      }
     ],
     "prompt_number": 1
    },
    {
     "cell_type": "code",
     "collapsed": false,
     "input": [
      "from spikedb import *\n",
      "client = MongoClient('localhost', 27017)\n",
      "db = client.bionet_database\n",
      "collection = db.flylab_data"
     ],
     "language": "python",
     "metadata": {},
     "outputs": [],
     "prompt_number": 2
    },
    {
     "cell_type": "code",
     "collapsed": false,
     "input": [
      "collection.remove()"
     ],
     "language": "python",
     "metadata": {},
     "outputs": [
      {
       "metadata": {},
       "output_type": "pyout",
       "prompt_number": 3,
       "text": [
        "{u'connectionId': 7, u'err': None, u'n': 33447, u'ok': 1.0}"
       ]
      }
     ],
     "prompt_number": 3
    },
    {
     "cell_type": "code",
     "collapsed": false,
     "input": [
      "Anmo_path = '/Volumes/database_disk/SpikeData/2009/electrophysiology/20090118/'\n",
      "SpikeDB.insert_documents_Anmo(collection, Anmo_path)"
     ],
     "language": "python",
     "metadata": {},
     "outputs": [
      {
       "output_type": "stream",
       "stream": "stdout",
       "text": [
        "2009_01_18_info0.xls\n",
        "file type incorrect"
       ]
      },
      {
       "output_type": "stream",
       "stream": "stdout",
       "text": [
        "\n",
        "/Volumes/database_disk/SpikeData/2009/electrophysiology/20090118/2009_01_18_0000.abf\n",
        "/Volumes/database_disk/SpikeData/2009/electrophysiology/20090118/2009_01_18_0001.abf\n",
        "/Volumes/database_disk/SpikeData/2009/electrophysiology/20090118/2009_01_18_0002.abf\n",
        "/Volumes/database_disk/SpikeData/2009/electrophysiology/20090118/2009_01_18_0003.abf\n",
        "/Volumes/database_disk/SpikeData/2009/electrophysiology/20090118/2009_01_18_0004.abf\n",
        "/Volumes/database_disk/SpikeData/2009/electrophysiology/20090118/2009_01_18_0005.abf\n",
        "/Volumes/database_disk/SpikeData/2009/electrophysiology/20090118/2009_01_18_0006.abf\n",
        "/Volumes/database_disk/SpikeData/2009/electrophysiology/20090118/2009_01_18_0007.abf\n",
        "/Volumes/database_disk/SpikeData/2009/electrophysiology/20090118/2009_01_18_0008.abf\n",
        "/Volumes/database_disk/SpikeData/2009/electrophysiology/20090118/2009_01_18_0009.abf\n",
        "/Volumes/database_disk/SpikeData/2009/electrophysiology/20090118/2009_01_18_0010.abf\n",
        "/Volumes/database_disk/SpikeData/2009/electrophysiology/20090118/2009_01_18_0011.abf\n",
        "/Volumes/database_disk/SpikeData/2009/electrophysiology/20090118/2009_01_18_0012.abf\n",
        "/Volumes/database_disk/SpikeData/2009/electrophysiology/20090118/2009_01_18_0013.abf\n",
        "/Volumes/database_disk/SpikeData/2009/electrophysiology/20090118/2009_01_18_0014.abf\n",
        "/Volumes/database_disk/SpikeData/2009/electrophysiology/20090118/2009_01_18_0015.abf\n",
        "/Volumes/database_disk/SpikeData/2009/electrophysiology/20090118/2009_01_18_0016.abf\n",
        "/Volumes/database_disk/SpikeData/2009/electrophysiology/20090118/2009_01_18_0017.abf\n",
        "/Volumes/database_disk/SpikeData/2009/electrophysiology/20090118/2009_01_18_0018.abf\n",
        "/Volumes/database_disk/SpikeData/2009/electrophysiology/20090118/2009_01_18_0019.abf\n",
        "/Volumes/database_disk/SpikeData/2009/electrophysiology/20090118/2009_01_18_0020.abf\n",
        "/Volumes/database_disk/SpikeData/2009/electrophysiology/20090118/2009_01_18_0021.abf\n",
        "/Volumes/database_disk/SpikeData/2009/electrophysiology/20090118/2009_01_18_0022.abf\n",
        "/Volumes/database_disk/SpikeData/2009/electrophysiology/20090118/2009_01_18_0023.abf\n",
        "/Volumes/database_disk/SpikeData/2009/electrophysiology/20090118/2009_01_18_0024.abf\n",
        "/Volumes/database_disk/SpikeData/2009/electrophysiology/20090118/2009_01_18_0025.abf\n",
        "/Volumes/database_disk/SpikeData/2009/electrophysiology/20090118/2009_01_18_0026.abf\n",
        "/Volumes/database_disk/SpikeData/2009/electrophysiology/20090118/2009_01_18_0027.abf\n",
        "/Volumes/database_disk/SpikeData/2009/electrophysiology/20090118/2009_01_18_0028.abf\n",
        "/Volumes/database_disk/SpikeData/2009/electrophysiology/20090118/2009_01_18_0029.abf\n",
        "/Volumes/database_disk/SpikeData/2009/electrophysiology/20090118/2009_01_18_0030.abf\n",
        "/Volumes/database_disk/SpikeData/2009/electrophysiology/20090118/2009_01_18_0031.abf\n",
        "/Volumes/database_disk/SpikeData/2009/electrophysiology/20090118/2009_01_18_0032.abf\n",
        "/Volumes/database_disk/SpikeData/2009/electrophysiology/20090118/2009_01_18_0033.abf\n",
        "/Volumes/database_disk/SpikeData/2009/electrophysiology/20090118/2009_01_18_0034.abf\n",
        "/Volumes/database_disk/SpikeData/2009/electrophysiology/20090118/2009_01_18_0035.abf\n",
        "/Volumes/database_disk/SpikeData/2009/electrophysiology/20090118/2009_01_18_0036.abf\n",
        "/Volumes/database_disk/SpikeData/2009/electrophysiology/20090118/2009_01_18_0037.abf\n",
        "/Volumes/database_disk/SpikeData/2009/electrophysiology/20090118/2009_01_18_0038.abf\n",
        "/Volumes/database_disk/SpikeData/2009/electrophysiology/20090118/2009_01_18_0039.abf\n",
        "/Volumes/database_disk/SpikeData/2009/electrophysiology/20090118/2009_01_18_0040.abf\n",
        "/Volumes/database_disk/SpikeData/2009/electrophysiology/20090118/2009_01_18_0041.abf\n",
        "/Volumes/database_disk/SpikeData/2009/electrophysiology/20090118/2009_01_18_0042.abf\n",
        "/Volumes/database_disk/SpikeData/2009/electrophysiology/20090118/2009_01_18_0043.abf\n",
        "/Volumes/database_disk/SpikeData/2009/electrophysiology/20090118/2009_01_18_0044.abf\n",
        "/Volumes/database_disk/SpikeData/2009/electrophysiology/20090118/2009_01_18_0045.abf\n",
        "/Volumes/database_disk/SpikeData/2009/electrophysiology/20090118/2009_01_18_0046.abf\n",
        "/Volumes/database_disk/SpikeData/2009/electrophysiology/20090118/2009_01_18_0047.abf\n",
        "/Volumes/database_disk/SpikeData/2009/electrophysiology/20090118/2009_01_18_0048.abf\n",
        "/Volumes/database_disk/SpikeData/2009/electrophysiology/20090118/2009_01_18_0049.abf\n",
        "/Volumes/database_disk/SpikeData/2009/electrophysiology/20090118/2009_01_18_0050.abf\n",
        "/Volumes/database_disk/SpikeData/2009/electrophysiology/20090118/2009_01_18_0051.abf\n",
        "/Volumes/database_disk/SpikeData/2009/electrophysiology/20090118/2009_01_18_0052.abf\n",
        "/Volumes/database_disk/SpikeData/2009/electrophysiology/20090118/2009_01_18_0053.abf\n",
        "/Volumes/database_disk/SpikeData/2009/electrophysiology/20090118/2009_01_18_0054.abf\n",
        "/Volumes/database_disk/SpikeData/2009/electrophysiology/20090118/2009_01_18_0055.abf\n",
        "/Volumes/database_disk/SpikeData/2009/electrophysiology/20090118/2009_01_18_0056.abf\n",
        "/Volumes/database_disk/SpikeData/2009/electrophysiology/20090118/2009_01_18_0057.abf\n",
        "/Volumes/database_disk/SpikeData/2009/electrophysiology/20090118/2009_01_18_0058.abf\n",
        "/Volumes/database_disk/SpikeData/2009/electrophysiology/20090118/2009_01_18_0059.abf\n",
        "/Volumes/database_disk/SpikeData/2009/electrophysiology/20090118/2009_01_18_0060.abf\n",
        "/Volumes/database_disk/SpikeData/2009/electrophysiology/20090118/2009_01_18_0061.abf\n",
        "/Volumes/database_disk/SpikeData/2009/electrophysiology/20090118/2009_01_18_0062.abf\n",
        "/Volumes/database_disk/SpikeData/2009/electrophysiology/20090118/2009_01_18_0063.abf\n",
        "/Volumes/database_disk/SpikeData/2009/electrophysiology/20090118/2009_01_18_0064.abf\n",
        "/Volumes/database_disk/SpikeData/2009/electrophysiology/20090118/2009_01_18_0065.abf\n",
        "/Volumes/database_disk/SpikeData/2009/electrophysiology/20090118/2009_01_18_0066.abf"
       ]
      },
      {
       "output_type": "stream",
       "stream": "stdout",
       "text": [
        "\n",
        "/Volumes/database_disk/SpikeData/2009/electrophysiology/20090118/2009_01_18_0067.abf\n",
        "/Volumes/database_disk/SpikeData/2009/electrophysiology/20090118/2009_01_18_0068.abf\n",
        "/Volumes/database_disk/SpikeData/2009/electrophysiology/20090118/2009_01_18_0069.abf\n",
        "/Volumes/database_disk/SpikeData/2009/electrophysiology/20090118/2009_01_18_0070.abf\n",
        "/Volumes/database_disk/SpikeData/2009/electrophysiology/20090118/2009_01_18_0071.abf\n",
        "/Volumes/database_disk/SpikeData/2009/electrophysiology/20090118/2009_01_18_0072.abf\n",
        "/Volumes/database_disk/SpikeData/2009/electrophysiology/20090118/2009_01_18_0073.abf\n",
        "/Volumes/database_disk/SpikeData/2009/electrophysiology/20090118/2009_01_18_0074.abf\n",
        "/Volumes/database_disk/SpikeData/2009/electrophysiology/20090118/2009_01_18_0075.abf\n",
        "/Volumes/database_disk/SpikeData/2009/electrophysiology/20090118/2009_01_18_0076.abf\n",
        "/Volumes/database_disk/SpikeData/2009/electrophysiology/20090118/2009_01_18_0077.abf\n",
        "/Volumes/database_disk/SpikeData/2009/electrophysiology/20090118/2009_01_18_0078.abf\n",
        "/Volumes/database_disk/SpikeData/2009/electrophysiology/20090118/2009_01_18_0079.abf\n",
        "mat parse error, not standard data record\n",
        "file type incorrect\n",
        "file type incorrect\n",
        "file type incorrect\n",
        "mat parse error, not standard data record\n",
        "file type incorrect\n",
        "file type incorrect\n",
        "file type incorrect\n",
        "file type incorrect\n",
        "file type incorrect\n",
        "file type incorrect\n",
        "file type incorrect\n"
       ]
      }
     ],
     "prompt_number": 4
    },
    {
     "cell_type": "code",
     "collapsed": false,
     "input": [
      "result = collection.find().limit(1000)\n",
      "for r in result:\n",
      "    print r\n",
      "\n",
      "result.count()"
     ],
     "language": "python",
     "metadata": {},
     "outputs": [
      {
       "output_type": "stream",
       "stream": "stdout",
       "text": [
        "{u'pp': u'', u'Iin': 0.0, u'stimdur': 7500.0, u'fnum': 80.0, u'prefill': 1.0, u'npulses': 1.0, u'etc': u'airflow(0.70L/min), miniPID(x5, med),flow2(2.7mL/min)', u'valveseq': u'c', u'fnhead': u'2009_01_18_', u'stimtype': u'just air flow,69.9mL/min', u'celltype': u'DM1PN', u'_id': ObjectId('535a7da9515f9a22affd4387'), u'stimstart': 5000.0, u'nsteps': 3.0, u'con': 9.1}\n",
        "{u'valveseq': u'c', u'pp': u'', u'_id': ObjectId('535a7da9515f9a22affd4377'), u'stimdur': 7500.0, u'fnum': 64.0, u'prefill': 1.0, u'npulses': 1.0, u'etc': u'airflow(0.70L/min), miniPID(x5, med),flow2(2.7mL/min)', u'abf_filepath': u'/Volumes/database_disk/SpikeData/2009/electrophysiology/20090118/2009_01_18_0064.abf', u'celltype': u'DM1PN', u'stimtype': u'just air flow,69.7mL/min', u'fnhead': u'2009_01_18_', u'Iin': 0.0, u'stimstart': 5000.0, u'nsteps': 3.0, u'con': 9.1}\n",
        "{u'valveseq': u'c', u'pp': u'', u'_id': ObjectId('535a7da9515f9a22affd4378'), u'stimdur': 7500.0, u'fnum': 65.0, u'prefill': 1.0, u'npulses': 1.0, u'etc': u'airflow(0.70L/min), miniPID(x5, med),flow2(2.7mL/min)', u'abf_filepath': u'/Volumes/database_disk/SpikeData/2009/electrophysiology/20090118/2009_01_18_0065.abf', u'celltype': u'DM1PN', u'stimtype': u'just air flow,70.0mL/min', u'fnhead': u'2009_01_18_', u'Iin': 0.0, u'stimstart': 5000.0, u'nsteps': 3.0, u'con': 9.1}\n",
        "{u'valveseq': u'c', u'pp': u'', u'_id': ObjectId('535a7da9515f9a22affd4379'), u'stimdur': 7500.0, u'fnum': 66.0, u'prefill': 1.0, u'npulses': 1.0, u'etc': u'airflow(0.70L/min), miniPID(x5, med),flow2(2.7mL/min)', u'abf_filepath': u'/Volumes/database_disk/SpikeData/2009/electrophysiology/20090118/2009_01_18_0066.abf', u'celltype': u'DM1PN', u'stimtype': u'just air flow,69.9mL/min', u'fnhead': u'2009_01_18_', u'Iin': 0.0, u'stimstart': 5000.0, u'nsteps': 3.0, u'con': 9.1}\n",
        "{u'valveseq': u'c', u'pp': u'', u'_id': ObjectId('535a7da9515f9a22affd437a'), u'stimdur': 7500.0, u'fnum': 67.0, u'prefill': 1.0, u'npulses': 1.0, u'etc': u'airflow(0.70L/min), miniPID(x5, med),flow2(2.7mL/min)', u'abf_filepath': u'/Volumes/database_disk/SpikeData/2009/electrophysiology/20090118/2009_01_18_0067.abf', u'celltype': u'DM1PN', u'stimtype': u'just air flow,69.9mL/min', u'fnhead': u'2009_01_18_', u'Iin': 0.0, u'stimstart': 5000.0, u'nsteps': 3.0, u'con': 9.1}\n",
        "{u'valveseq': u'c', u'pp': u'', u'_id': ObjectId('535a7da9515f9a22affd437b'), u'stimdur': 7500.0, u'fnum': 68.0, u'prefill': 1.0, u'npulses': 1.0, u'etc': u'airflow(0.70L/min), miniPID(x5, med),flow2(2.7mL/min)', u'abf_filepath': u'/Volumes/database_disk/SpikeData/2009/electrophysiology/20090118/2009_01_18_0068.abf', u'celltype': u'DM1PN', u'stimtype': u'just air flow,70.1mL/min', u'fnhead': u'2009_01_18_', u'Iin': 0.0, u'stimstart': 5000.0, u'nsteps': 3.0, u'con': 9.1}\n",
        "{u'valveseq': u'c', u'pp': u'', u'_id': ObjectId('535a7da9515f9a22affd437c'), u'stimdur': 7500.0, u'fnum': 69.0, u'prefill': 1.0, u'npulses': 1.0, u'etc': u'airflow(0.70L/min), miniPID(x5, med),flow2(2.7mL/min)', u'abf_filepath': u'/Volumes/database_disk/SpikeData/2009/electrophysiology/20090118/2009_01_18_0069.abf', u'celltype': u'DM1PN', u'stimtype': u'just air flow,69.8mL/min', u'fnhead': u'2009_01_18_', u'Iin': 0.0, u'stimstart': 5000.0, u'nsteps': 3.0, u'con': 9.1}\n",
        "{u'valveseq': u'c', u'pp': u'', u'_id': ObjectId('535a7da9515f9a22affd437d'), u'stimdur': 7500.0, u'fnum': 70.0, u'prefill': 1.0, u'npulses': 1.0, u'etc': u'airflow(0.70L/min), miniPID(x5, med),flow2(2.7mL/min)', u'abf_filepath': u'/Volumes/database_disk/SpikeData/2009/electrophysiology/20090118/2009_01_18_0070.abf', u'celltype': u'DM1PN', u'stimtype': u'just air flow,69.7mL/min', u'fnhead': u'2009_01_18_', u'Iin': 0.0, u'stimstart': 5000.0, u'nsteps': 3.0, u'con': 9.1}\n",
        "{u'valveseq': u'c', u'pp': u'', u'_id': ObjectId('535a7da9515f9a22affd437e'), u'stimdur': 7500.0, u'fnum': 71.0, u'prefill': 1.0, u'npulses': 1.0, u'etc': u'airflow(0.70L/min), miniPID(x5, med),flow2(2.7mL/min)', u'abf_filepath': u'/Volumes/database_disk/SpikeData/2009/electrophysiology/20090118/2009_01_18_0071.abf', u'celltype': u'DM1PN', u'stimtype': u'just air flow,70.0mL/min', u'fnhead': u'2009_01_18_', u'Iin': 0.0, u'stimstart': 5000.0, u'nsteps': 3.0, u'con': 9.1}\n",
        "{u'valveseq': u'c', u'pp': u'', u'_id': ObjectId('535a7da9515f9a22affd437f'), u'stimdur': 7500.0, u'fnum': 72.0, u'prefill': 1.0, u'npulses': 1.0, u'etc': u'airflow(0.70L/min), miniPID(x5, med),flow2(2.7mL/min)', u'abf_filepath': u'/Volumes/database_disk/SpikeData/2009/electrophysiology/20090118/2009_01_18_0072.abf', u'celltype': u'DM1PN', u'stimtype': u'just air flow,69.9mL/min', u'fnhead': u'2009_01_18_', u'Iin': 0.0, u'stimstart': 5000.0, u'nsteps': 3.0, u'con': 9.1}\n",
        "{u'valveseq': u'c', u'pp': u'', u'_id': ObjectId('535a7da9515f9a22affd4380'), u'stimdur': 7500.0, u'fnum': 73.0, u'prefill': 1.0, u'npulses': 1.0, u'etc': u'airflow(0.70L/min), miniPID(x5, med),flow2(2.7mL/min)', u'abf_filepath': u'/Volumes/database_disk/SpikeData/2009/electrophysiology/20090118/2009_01_18_0073.abf', u'celltype': u'DM1PN', u'stimtype': u'just air flow,70.0mL/min', u'fnhead': u'2009_01_18_', u'Iin': 0.0, u'stimstart': 5000.0, u'nsteps': 3.0, u'con': 9.1}\n",
        "{u'valveseq': u'c', u'pp': u'', u'_id': ObjectId('535a7da9515f9a22affd4381'), u'stimdur': 7500.0, u'fnum': 74.0, u'prefill': 1.0, u'npulses': 1.0, u'etc': u'airflow(0.70L/min), miniPID(x5, med),flow2(2.7mL/min)', u'abf_filepath': u'/Volumes/database_disk/SpikeData/2009/electrophysiology/20090118/2009_01_18_0074.abf', u'celltype': u'DM1PN', u'stimtype': u'just air flow,70.0mL/min', u'fnhead': u'2009_01_18_', u'Iin': 0.0, u'stimstart': 5000.0, u'nsteps': 3.0, u'con': 9.1}\n",
        "{u'valveseq': u'c', u'pp': u'', u'_id': ObjectId('535a7da9515f9a22affd4382'), u'stimdur': 7500.0, u'fnum': 75.0, u'prefill': 1.0, u'npulses': 1.0, u'etc': u'airflow(0.70L/min), miniPID(x5, med),flow2(2.7mL/min)', u'abf_filepath': u'/Volumes/database_disk/SpikeData/2009/electrophysiology/20090118/2009_01_18_0075.abf', u'celltype': u'DM1PN', u'stimtype': u'just air flow,69.8mL/min', u'fnhead': u'2009_01_18_', u'Iin': 0.0, u'stimstart': 5000.0, u'nsteps': 3.0, u'con': 9.1}\n",
        "{u'valveseq': u'c', u'pp': u'', u'_id': ObjectId('535a7da9515f9a22affd4383'), u'stimdur': 7500.0, u'fnum': 76.0, u'prefill': 1.0, u'npulses': 1.0, u'etc': u'airflow(0.70L/min), miniPID(x5, med),flow2(2.7mL/min)', u'abf_filepath': u'/Volumes/database_disk/SpikeData/2009/electrophysiology/20090118/2009_01_18_0076.abf', u'celltype': u'DM1PN', u'stimtype': u'just air flow,69.8mL/min', u'fnhead': u'2009_01_18_', u'Iin': 0.0, u'stimstart': 5000.0, u'nsteps': 3.0, u'con': 9.1}\n",
        "{u'valveseq': u'c', u'pp': u'', u'_id': ObjectId('535a7da9515f9a22affd4384'), u'stimdur': 7500.0, u'fnum': 77.0, u'prefill': 1.0, u'npulses': 1.0, u'etc': u'airflow(0.70L/min), miniPID(x5, med),flow2(2.7mL/min)', u'abf_filepath': u'/Volumes/database_disk/SpikeData/2009/electrophysiology/20090118/2009_01_18_0077.abf', u'celltype': u'DM1PN', u'stimtype': u'just air flow,69.9mL/min', u'fnhead': u'2009_01_18_', u'Iin': 0.0, u'stimstart': 5000.0, u'nsteps': 3.0, u'con': 9.1}\n",
        "{u'valveseq': u'c', u'pp': u'', u'_id': ObjectId('535a7da9515f9a22affd4385'), u'stimdur': 7500.0, u'fnum': 78.0, u'prefill': 1.0, u'npulses': 1.0, u'etc': u'airflow(0.70L/min), miniPID(x5, med),flow2(2.7mL/min)', u'abf_filepath': u'/Volumes/database_disk/SpikeData/2009/electrophysiology/20090118/2009_01_18_0078.abf', u'celltype': u'DM1PN', u'stimtype': u'just air flow,70.2mL/min', u'fnhead': u'2009_01_18_', u'Iin': 0.0, u'stimstart': 5000.0, u'nsteps': 3.0, u'con': 9.1}\n",
        "{u'valveseq': u'c', u'pp': u'', u'_id': ObjectId('535a7da9515f9a22affd4386'), u'stimdur': 7500.0, u'fnum': 79.0, u'prefill': 1.0, u'npulses': 1.0, u'etc': u'airflow(0.70L/min), miniPID(x5, med),flow2(2.7mL/min)', u'abf_filepath': u'/Volumes/database_disk/SpikeData/2009/electrophysiology/20090118/2009_01_18_0079.abf', u'celltype': u'DM1PN', u'stimtype': u'just air flow,69.9mL/min', u'fnhead': u'2009_01_18_', u'Iin': 0.0, u'stimstart': 5000.0, u'nsteps': 3.0, u'con': 9.1}\n",
        "{u'valveseq': u'c', u'pp': u'', u'_id': ObjectId('535a7da9515f9a22affd4337'), u'stimdur': 7500.0, u'timestamp': datetime.datetime(2009, 6, 1, 13, 19, 34), u'fnum': 0.0, u'prefill': 1.0, u'npulses': 1.0, u'etc': u'airflow(0.70L/min), miniPID(x5, med),flow2(1.5mL/min)', u'abf_filepath': u'/Volumes/database_disk/SpikeData/2009/electrophysiology/20090118/2009_01_18_0000.abf', u'celltype': u'DM1PN', u'nsteps': 3.0, u'stimtype': u'1/1000x Ethyl Acetate,39.8mL/min', u'fnhead': u'2009_01_18_', u'Iin': 0.0, u'stimstart': 5000.0, u'mat_filepath': u'/Volumes/database_disk/SpikeData/2009/electrophysiology/20090118/m/2009_01_18_0000.mat', u'con': 5.4}\n",
        "{u'valveseq': 6.0, u'pp': u'', u'_id': ObjectId('535a7da9515f9a22affd4338'), u'stimdur': 7500.0, u'timestamp': datetime.datetime(2009, 6, 1, 13, 19, 34), u'fnum': 1.0, u'prefill': 1.0, u'npulses': 1.0, u'etc': u'airflow(0.70L/min), miniPID(x5, med),flow2(0.7mL/min)', u'abf_filepath': u'/Volumes/database_disk/SpikeData/2009/electrophysiology/20090118/2009_01_18_0001.abf', u'celltype': u'DM1PN', u'nsteps': 3.0, u'stimtype': u'1/100x Ethyl Acetate,20.1mL/min', u'fnhead': u'2009_01_18_', u'Iin': 0.0, u'stimstart': 5000.0, u'mat_filepath': u'/Volumes/database_disk/SpikeData/2009/electrophysiology/20090118/m/2009_01_18_0001.mat', u'con': 2.8}\n",
        "{u'valveseq': 6.0, u'pp': u'', u'_id': ObjectId('535a7da9515f9a22affd4339'), u'stimdur': 7500.0, u'timestamp': datetime.datetime(2009, 6, 1, 13, 19, 34), u'fnum': 2.0, u'prefill': 1.0, u'npulses': 1.0, u'etc': u'airflow(0.70L/min), miniPID(x5, med),flow2(1.5mL/min)', u'abf_filepath': u'/Volumes/database_disk/SpikeData/2009/electrophysiology/20090118/2009_01_18_0002.abf', u'celltype': u'DM1PN', u'nsteps': 3.0, u'stimtype': u'1/100x Ethyl Acetate,40.2mL/min', u'fnhead': u'2009_01_18_', u'Iin': 0.0, u'stimstart': 5000.0, u'mat_filepath': u'/Volumes/database_disk/SpikeData/2009/electrophysiology/20090118/m/2009_01_18_0002.mat', u'con': 5.4}\n",
        "{u'valveseq': 6.0, u'pp': u'', u'_id': ObjectId('535a7da9515f9a22affd433a'), u'stimdur': 7500.0, u'timestamp': datetime.datetime(2009, 6, 1, 13, 19, 35), u'fnum': 3.0, u'prefill': 1.0, u'npulses': 1.0, u'etc': u'airflow(0.70L/min), miniPID(x5, med),flow2(0.2mL/min)', u'abf_filepath': u'/Volumes/database_disk/SpikeData/2009/electrophysiology/20090118/2009_01_18_0003.abf', u'celltype': u'DM1PN', u'nsteps': 3.0, u'stimtype': u'1/100x Ethyl Acetate,10.1mL/min', u'fnhead': u'2009_01_18_', u'Iin': 0.0, u'stimstart': 5000.0, u'mat_filepath': u'/Volumes/database_disk/SpikeData/2009/electrophysiology/20090118/m/2009_01_18_0003.mat', u'con': 1.4}\n",
        "{u'valveseq': u'c', u'pp': u'', u'_id': ObjectId('535a7da9515f9a22affd433b'), u'stimdur': 7500.0, u'timestamp': datetime.datetime(2009, 6, 1, 13, 19, 35), u'fnum': 4.0, u'prefill': 1.0, u'npulses': 1.0, u'etc': u'airflow(0.70L/min), miniPID(x5, med),flow2(0.7mL/min)', u'abf_filepath': u'/Volumes/database_disk/SpikeData/2009/electrophysiology/20090118/2009_01_18_0004.abf', u'celltype': u'DM1PN', u'nsteps': 3.0, u'stimtype': u'1/1000x Ethyl Acetate,20.2mL/min', u'fnhead': u'2009_01_18_', u'Iin': 0.0, u'stimstart': 5000.0, u'mat_filepath': u'/Volumes/database_disk/SpikeData/2009/electrophysiology/20090118/m/2009_01_18_0004.mat', u'con': 2.8}\n",
        "{u'valveseq': u'c', u'pp': u'', u'_id': ObjectId('535a7da9515f9a22affd433c'), u'stimdur': 7500.0, u'timestamp': datetime.datetime(2009, 6, 1, 13, 19, 36), u'fnum': 5.0, u'prefill': 1.0, u'npulses': 1.0, u'etc': u'airflow(0.70L/min), miniPID(x5, med),flow2(1.5mL/min)', u'abf_filepath': u'/Volumes/database_disk/SpikeData/2009/electrophysiology/20090118/2009_01_18_0005.abf', u'celltype': u'DM1PN', u'nsteps': 3.0, u'stimtype': u'1/1000x Ethyl Acetate,40.2mL/min', u'fnhead': u'2009_01_18_', u'Iin': 0.0, u'stimstart': 5000.0, u'mat_filepath': u'/Volumes/database_disk/SpikeData/2009/electrophysiology/20090118/m/2009_01_18_0005.mat', u'con': 5.4}\n",
        "{u'valveseq': u'c', u'pp': u'', u'_id': ObjectId('535a7da9515f9a22affd433d'), u'stimdur': 7500.0, u'timestamp': datetime.datetime(2009, 6, 1, 13, 19, 36), u'fnum': 6.0, u'prefill': 1.0, u'npulses': 1.0, u'etc': u'airflow(0.70L/min), miniPID(x5, med),flow2(0.2mL/min)', u'abf_filepath': u'/Volumes/database_disk/SpikeData/2009/electrophysiology/20090118/2009_01_18_0006.abf', u'celltype': u'DM1PN', u'nsteps': 3.0, u'stimtype': u'1/1000x Ethyl Acetate,9.7mL/min', u'fnhead': u'2009_01_18_', u'Iin': 0.0, u'stimstart': 5000.0, u'mat_filepath': u'/Volumes/database_disk/SpikeData/2009/electrophysiology/20090118/m/2009_01_18_0006.mat', u'con': 1.4}\n",
        "{u'valveseq': 6.0, u'pp': u'', u'_id': ObjectId('535a7da9515f9a22affd433e'), u'stimdur': 7500.0, u'timestamp': datetime.datetime(2009, 6, 1, 13, 19, 37), u'fnum': 7.0, u'prefill': 1.0, u'npulses': 1.0, u'etc': u'airflow(0.70L/min), miniPID(x5, med),flow2(0.3mL/min)', u'abf_filepath': u'/Volumes/database_disk/SpikeData/2009/electrophysiology/20090118/2009_01_18_0007.abf', u'celltype': u'DM1PN', u'nsteps': 3.0, u'stimtype': u'1/100x Ethyl Acetate,10.5mL/min', u'fnhead': u'2009_01_18_', u'Iin': 0.0, u'stimstart': 5000.0, u'mat_filepath': u'/Volumes/database_disk/SpikeData/2009/electrophysiology/20090118/m/2009_01_18_0007.mat', u'con': 1.5}\n",
        "{u'valveseq': 6.0, u'pp': u'', u'_id': ObjectId('535a7da9515f9a22affd433f'), u'stimdur': 7500.0, u'timestamp': datetime.datetime(2009, 6, 1, 13, 19, 37), u'fnum': 8.0, u'prefill': 1.0, u'npulses': 1.0, u'etc': u'airflow(0.70L/min), miniPID(x5, med),flow2(0.2mL/min)', u'abf_filepath': u'/Volumes/database_disk/SpikeData/2009/electrophysiology/20090118/2009_01_18_0008.abf', u'celltype': u'DM1PN', u'nsteps': 3.0, u'stimtype': u'1/100x Ethyl Acetate,10.1mL/min', u'fnhead': u'2009_01_18_', u'Iin': 0.0, u'stimstart': 5000.0, u'mat_filepath': u'/Volumes/database_disk/SpikeData/2009/electrophysiology/20090118/m/2009_01_18_0008.mat', u'con': 1.4}\n",
        "{u'valveseq': 6.0, u'pp': u'', u'_id': ObjectId('535a7da9515f9a22affd4340'), u'stimdur': 7500.0, u'timestamp': datetime.datetime(2009, 6, 1, 13, 19, 37), u'fnum': 9.0, u'prefill': 1.0, u'npulses': 1.0, u'etc': u'airflow(0.70L/min), miniPID(x5, med),flow2(0.3mL/min)', u'abf_filepath': u'/Volumes/database_disk/SpikeData/2009/electrophysiology/20090118/2009_01_18_0009.abf', u'celltype': u'DM1PN', u'nsteps': 3.0, u'stimtype': u'1/100x Ethyl Acetate,10.2mL/min', u'fnhead': u'2009_01_18_', u'Iin': 0.0, u'stimstart': 5000.0, u'mat_filepath': u'/Volumes/database_disk/SpikeData/2009/electrophysiology/20090118/m/2009_01_18_0009.mat', u'con': 1.4}\n",
        "{u'valveseq': u'c', u'pp': u'', u'_id': ObjectId('535a7da9515f9a22affd4341'), u'stimdur': 7500.0, u'timestamp': datetime.datetime(2009, 6, 1, 13, 19, 38), u'fnum': 10.0, u'prefill': 1.0, u'npulses': 1.0, u'etc': u'airflow(0.70L/min), miniPID(x5, med),flow2(0.3mL/min)', u'abf_filepath': u'/Volumes/database_disk/SpikeData/2009/electrophysiology/20090118/2009_01_18_0010.abf', u'celltype': u'DM1PN', u'nsteps': 3.0, u'stimtype': u'1/1000x Ethyl Acetate,10.2mL/min', u'fnhead': u'2009_01_18_', u'Iin': 0.0, u'stimstart': 5000.0, u'mat_filepath': u'/Volumes/database_disk/SpikeData/2009/electrophysiology/20090118/m/2009_01_18_0010.mat', u'con': 1.4}\n",
        "{u'valveseq': u'c', u'pp': u'', u'_id': ObjectId('535a7da9515f9a22affd4342'), u'stimdur': 7500.0, u'timestamp': datetime.datetime(2009, 6, 1, 13, 19, 38), u'fnum': 11.0, u'prefill': 1.0, u'npulses': 1.0, u'etc': u'airflow(0.70L/min), miniPID(x5, med),flow2(0.2mL/min)', u'abf_filepath': u'/Volumes/database_disk/SpikeData/2009/electrophysiology/20090118/2009_01_18_0011.abf', u'celltype': u'DM1PN', u'nsteps': 3.0, u'stimtype': u'1/1000x Ethyl Acetate,10.0mL/min', u'fnhead': u'2009_01_18_', u'Iin': 0.0, u'stimstart': 5000.0, u'mat_filepath': u'/Volumes/database_disk/SpikeData/2009/electrophysiology/20090118/m/2009_01_18_0011.mat', u'con': 1.4}\n",
        "{u'valveseq': u'c', u'pp': u'', u'_id': ObjectId('535a7da9515f9a22affd4343'), u'stimdur': 7500.0, u'timestamp': datetime.datetime(2009, 6, 1, 13, 19, 38), u'fnum': 12.0, u'prefill': 1.0, u'npulses': 1.0, u'etc': u'airflow(0.70L/min), miniPID(x5, med),flow2(0.3mL/min)', u'abf_filepath': u'/Volumes/database_disk/SpikeData/2009/electrophysiology/20090118/2009_01_18_0012.abf', u'celltype': u'DM1PN', u'nsteps': 3.0, u'stimtype': u'1/1000x Ethyl Acetate,10.2mL/min', u'fnhead': u'2009_01_18_', u'Iin': 0.0, u'stimstart': 5000.0, u'mat_filepath': u'/Volumes/database_disk/SpikeData/2009/electrophysiology/20090118/m/2009_01_18_0012.mat', u'con': 1.4}\n",
        "{u'valveseq': 6.0, u'pp': u'', u'_id': ObjectId('535a7da9515f9a22affd4344'), u'stimdur': 7500.0, u'timestamp': datetime.datetime(2009, 6, 1, 13, 19, 39), u'fnum': 13.0, u'prefill': 1.0, u'npulses': 1.0, u'etc': u'airflow(0.71L/min), miniPID(x5, med),flow2(2.8mL/min)', u'abf_filepath': u'/Volumes/database_disk/SpikeData/2009/electrophysiology/20090118/2009_01_18_0013.abf', u'celltype': u'DM1PN', u'nsteps': 3.0, u'stimtype': u'1/100x Ethyl Acetate,71.2mL/min', u'fnhead': u'2009_01_18_', u'Iin': 0.0, u'stimstart': 5000.0, u'mat_filepath': u'/Volumes/database_disk/SpikeData/2009/electrophysiology/20090118/m/2009_01_18_0013.mat', u'con': 9.2}\n",
        "{u'valveseq': u'c', u'pp': u'', u'_id': ObjectId('535a7da9515f9a22affd4345'), u'stimdur': 7500.0, u'timestamp': datetime.datetime(2009, 6, 1, 13, 19, 39), u'fnum': 14.0, u'prefill': 1.0, u'npulses': 1.0, u'etc': u'airflow(0.70L/min), miniPID(x5, med),flow2(-0.2mL/min)', u'abf_filepath': u'/Volumes/database_disk/SpikeData/2009/electrophysiology/20090118/2009_01_18_0014.abf', u'celltype': u'DM1PN', u'nsteps': 3.0, u'stimtype': u'1/1000x Ethyl Acetate,0.1mL/min', u'fnhead': u'2009_01_18_', u'Iin': 0.0, u'stimstart': 5000.0, u'mat_filepath': u'/Volumes/database_disk/SpikeData/2009/electrophysiology/20090118/m/2009_01_18_0014.mat', u'con': 0.0}\n",
        "{u'valveseq': u'c', u'pp': u'', u'_id': ObjectId('535a7da9515f9a22affd4346'), u'stimdur': 7500.0, u'timestamp': datetime.datetime(2009, 6, 1, 13, 19, 39), u'fnum': 15.0, u'prefill': 1.0, u'npulses': 1.0, u'etc': u'airflow(0.70L/min), miniPID(x5, med),flow2(2.7mL/min)', u'abf_filepath': u'/Volumes/database_disk/SpikeData/2009/electrophysiology/20090118/2009_01_18_0015.abf', u'celltype': u'DM1PN', u'nsteps': 3.0, u'stimtype': u'just air flow,69.8mL/min', u'fnhead': u'2009_01_18_', u'Iin': 0.0, u'stimstart': 5000.0, u'mat_filepath': u'/Volumes/database_disk/SpikeData/2009/electrophysiology/20090118/m/2009_01_18_0015.mat', u'con': 9.1}\n",
        "{u'valveseq': u'c', u'pp': u'', u'_id': ObjectId('535a7da9515f9a22affd4347'), u'stimdur': 7500.0, u'timestamp': datetime.datetime(2009, 6, 1, 13, 19, 40), u'fnum': 16.0, u'prefill': 1.0, u'npulses': 1.0, u'etc': u'airflow(0.70L/min), miniPID(x5, med),flow2(2.7mL/min)', u'abf_filepath': u'/Volumes/database_disk/SpikeData/2009/electrophysiology/20090118/2009_01_18_0016.abf', u'celltype': u'DM1PN', u'nsteps': 3.0, u'stimtype': u'just air flow,69.6mL/min', u'fnhead': u'2009_01_18_', u'Iin': 0.0, u'stimstart': 5000.0, u'mat_filepath': u'/Volumes/database_disk/SpikeData/2009/electrophysiology/20090118/m/2009_01_18_0016.mat', u'con': 9.0}\n",
        "{u'valveseq': 6.0, u'pp': u'', u'_id': ObjectId('535a7da9515f9a22affd4348'), u'stimdur': 7500.0, u'timestamp': datetime.datetime(2009, 6, 1, 13, 19, 40), u'fnum': 17.0, u'prefill': 1.0, u'npulses': 1.0, u'etc': u'airflow(0.70L/min), miniPID(x5, med),flow2(0.6mL/min)', u'abf_filepath': u'/Volumes/database_disk/SpikeData/2009/electrophysiology/20090118/2009_01_18_0017.abf', u'celltype': u'DM1PN', u'nsteps': 3.0, u'stimtype': u'1/100x Ethyl Acetate,19.8mL/min', u'fnhead': u'2009_01_18_', u'Iin': 0.0, u'stimstart': 5000.0, u'mat_filepath': u'/Volumes/database_disk/SpikeData/2009/electrophysiology/20090118/m/2009_01_18_0017.mat', u'con': 2.7}\n",
        "{u'valveseq': 6.0, u'pp': u'', u'_id': ObjectId('535a7da9515f9a22affd4349'), u'stimdur': 7500.0, u'timestamp': datetime.datetime(2009, 6, 1, 13, 19, 40), u'fnum': 18.0, u'prefill': 1.0, u'npulses': 1.0, u'etc': u'airflow(0.70L/min), miniPID(x5, med),flow2(1.5mL/min)', u'abf_filepath': u'/Volumes/database_disk/SpikeData/2009/electrophysiology/20090118/2009_01_18_0018.abf', u'celltype': u'DM1PN', u'nsteps': 3.0, u'stimtype': u'1/100x Ethyl Acetate,40.5mL/min', u'fnhead': u'2009_01_18_', u'Iin': 0.0, u'stimstart': 5000.0, u'mat_filepath': u'/Volumes/database_disk/SpikeData/2009/electrophysiology/20090118/m/2009_01_18_0018.mat', u'con': 5.5}\n",
        "{u'valveseq': 6.0, u'pp': u'', u'_id': ObjectId('535a7da9515f9a22affd434a'), u'stimdur': 7500.0, u'timestamp': datetime.datetime(2009, 6, 1, 13, 19, 41), u'fnum': 19.0, u'prefill': 1.0, u'npulses': 1.0, u'etc': u'airflow(0.70L/min), miniPID(x5, med),flow2(0.2mL/min)', u'abf_filepath': u'/Volumes/database_disk/SpikeData/2009/electrophysiology/20090118/2009_01_18_0019.abf', u'celltype': u'DM1PN', u'nsteps': 3.0, u'stimtype': u'1/100x Ethyl Acetate,9.8mL/min', u'fnhead': u'2009_01_18_', u'Iin': 0.0, u'stimstart': 5000.0, u'mat_filepath': u'/Volumes/database_disk/SpikeData/2009/electrophysiology/20090118/m/2009_01_18_0019.mat', u'con': 1.4}\n",
        "{u'valveseq': u'c', u'pp': u'', u'_id': ObjectId('535a7da9515f9a22affd434b'), u'stimdur': 7500.0, u'timestamp': datetime.datetime(2009, 6, 1, 13, 19, 41), u'fnum': 20.0, u'prefill': 1.0, u'npulses': 1.0, u'etc': u'airflow(0.70L/min), miniPID(x5, med),flow2(0.7mL/min)', u'abf_filepath': u'/Volumes/database_disk/SpikeData/2009/electrophysiology/20090118/2009_01_18_0020.abf', u'celltype': u'DM1PN', u'nsteps': 3.0, u'stimtype': u'1/1000x Ethyl Acetate,20.3mL/min', u'fnhead': u'2009_01_18_', u'Iin': 0.0, u'stimstart': 5000.0, u'mat_filepath': u'/Volumes/database_disk/SpikeData/2009/electrophysiology/20090118/m/2009_01_18_0020.mat', u'con': 2.8}\n",
        "{u'valveseq': u'c', u'pp': u'', u'_id': ObjectId('535a7da9515f9a22affd434c'), u'stimdur': 7500.0, u'timestamp': datetime.datetime(2009, 6, 1, 13, 19, 42), u'fnum': 21.0, u'prefill': 1.0, u'npulses': 1.0, u'etc': u'airflow(0.70L/min), miniPID(x5, med),flow2(1.5mL/min)', u'abf_filepath': u'/Volumes/database_disk/SpikeData/2009/electrophysiology/20090118/2009_01_18_0021.abf', u'celltype': u'DM1PN', u'nsteps': 3.0, u'stimtype': u'1/1000x Ethyl Acetate,40.2mL/min', u'fnhead': u'2009_01_18_', u'Iin': 0.0, u'stimstart': 5000.0, u'mat_filepath': u'/Volumes/database_disk/SpikeData/2009/electrophysiology/20090118/m/2009_01_18_0021.mat', u'con': 5.4}\n",
        "{u'valveseq': u'c', u'pp': u'', u'_id': ObjectId('535a7da9515f9a22affd434d'), u'stimdur': 7500.0, u'timestamp': datetime.datetime(2009, 6, 1, 13, 19, 42), u'fnum': 22.0, u'prefill': 1.0, u'npulses': 1.0, u'etc': u'airflow(0.70L/min), miniPID(x5, med),flow2(0.2mL/min)', u'abf_filepath': u'/Volumes/database_disk/SpikeData/2009/electrophysiology/20090118/2009_01_18_0022.abf', u'celltype': u'DM1PN', u'nsteps': 3.0, u'stimtype': u'1/1000x Ethyl Acetate,9.8mL/min', u'fnhead': u'2009_01_18_', u'Iin': 0.0, u'stimstart': 5000.0, u'mat_filepath': u'/Volumes/database_disk/SpikeData/2009/electrophysiology/20090118/m/2009_01_18_0022.mat', u'con': 1.4}\n",
        "{u'valveseq': 6.0, u'pp': u'', u'_id': ObjectId('535a7da9515f9a22affd434e'), u'stimdur': 7500.0, u'timestamp': datetime.datetime(2009, 6, 1, 13, 19, 42), u'fnum': 23.0, u'prefill': 1.0, u'npulses': 1.0, u'etc': u'airflow(0.70L/min), miniPID(x5, med),flow2(0.3mL/min)', u'abf_filepath': u'/Volumes/database_disk/SpikeData/2009/electrophysiology/20090118/2009_01_18_0023.abf', u'celltype': u'DM1PN', u'nsteps': 3.0, u'stimtype': u'1/100x Ethyl Acetate,10.5mL/min', u'fnhead': u'2009_01_18_', u'Iin': 0.0, u'stimstart': 5000.0, u'mat_filepath': u'/Volumes/database_disk/SpikeData/2009/electrophysiology/20090118/m/2009_01_18_0023.mat', u'con': 1.5}\n",
        "{u'valveseq': 6.0, u'pp': u'', u'_id': ObjectId('535a7da9515f9a22affd434f'), u'stimdur': 7500.0, u'timestamp': datetime.datetime(2009, 6, 1, 13, 19, 43), u'fnum': 24.0, u'prefill': 1.0, u'npulses': 1.0, u'etc': u'airflow(0.70L/min), miniPID(x5, med),flow2(0.2mL/min)', u'abf_filepath': u'/Volumes/database_disk/SpikeData/2009/electrophysiology/20090118/2009_01_18_0024.abf', u'celltype': u'DM1PN', u'nsteps': 3.0, u'stimtype': u'1/100x Ethyl Acetate,10.0mL/min', u'fnhead': u'2009_01_18_', u'Iin': 0.0, u'stimstart': 5000.0, u'mat_filepath': u'/Volumes/database_disk/SpikeData/2009/electrophysiology/20090118/m/2009_01_18_0024.mat', u'con': 1.4}\n",
        "{u'valveseq': 6.0, u'pp': u'', u'_id': ObjectId('535a7da9515f9a22affd4350'), u'stimdur': 7500.0, u'timestamp': datetime.datetime(2009, 6, 1, 13, 19, 43), u'fnum': 25.0, u'prefill': 1.0, u'npulses': 1.0, u'etc': u'airflow(0.70L/min), miniPID(x5, med),flow2(0.2mL/min)', u'abf_filepath': u'/Volumes/database_disk/SpikeData/2009/electrophysiology/20090118/2009_01_18_0025.abf', u'celltype': u'DM1PN', u'nsteps': 3.0, u'stimtype': u'1/100x Ethyl Acetate,10.0mL/min', u'fnhead': u'2009_01_18_', u'Iin': 0.0, u'stimstart': 5000.0, u'mat_filepath': u'/Volumes/database_disk/SpikeData/2009/electrophysiology/20090118/m/2009_01_18_0025.mat', u'con': 1.4}\n",
        "{u'valveseq': u'c', u'pp': u'', u'_id': ObjectId('535a7da9515f9a22affd4351'), u'stimdur': 7500.0, u'timestamp': datetime.datetime(2009, 6, 1, 13, 19, 43), u'fnum': 26.0, u'prefill': 1.0, u'npulses': 1.0, u'etc': u'airflow(0.70L/min), miniPID(x5, med),flow2(0.3mL/min)', u'abf_filepath': u'/Volumes/database_disk/SpikeData/2009/electrophysiology/20090118/2009_01_18_0026.abf', u'celltype': u'DM1PN', u'nsteps': 3.0, u'stimtype': u'1/1000x Ethyl Acetate,10.2mL/min', u'fnhead': u'2009_01_18_', u'Iin': 0.0, u'stimstart': 5000.0, u'mat_filepath': u'/Volumes/database_disk/SpikeData/2009/electrophysiology/20090118/m/2009_01_18_0026.mat', u'con': 1.4}\n",
        "{u'valveseq': u'c', u'pp': u'', u'_id': ObjectId('535a7da9515f9a22affd4352'), u'stimdur': 7500.0, u'timestamp': datetime.datetime(2009, 6, 1, 13, 19, 43), u'fnum': 27.0, u'prefill': 1.0, u'npulses': 1.0, u'etc': u'airflow(0.70L/min), miniPID(x5, med),flow2(0.3mL/min)', u'abf_filepath': u'/Volumes/database_disk/SpikeData/2009/electrophysiology/20090118/2009_01_18_0027.abf', u'celltype': u'DM1PN', u'nsteps': 3.0, u'stimtype': u'1/1000x Ethyl Acetate,10.3mL/min', u'fnhead': u'2009_01_18_', u'Iin': 0.0, u'stimstart': 5000.0, u'mat_filepath': u'/Volumes/database_disk/SpikeData/2009/electrophysiology/20090118/m/2009_01_18_0027.mat', u'con': 1.4}\n",
        "{u'valveseq': u'c', u'pp': u'', u'_id': ObjectId('535a7da9515f9a22affd4353'), u'stimdur': 7500.0, u'timestamp': datetime.datetime(2009, 6, 1, 13, 19, 44), u'fnum': 28.0, u'prefill': 1.0, u'npulses': 1.0, u'etc': u'airflow(0.70L/min), miniPID(x5, med),flow2(0.3mL/min)', u'abf_filepath': u'/Volumes/database_disk/SpikeData/2009/electrophysiology/20090118/2009_01_18_0028.abf', u'celltype': u'DM1PN', u'nsteps': 3.0, u'stimtype': u'1/1000x Ethyl Acetate,10.3mL/min', u'fnhead': u'2009_01_18_', u'Iin': 0.0, u'stimstart': 5000.0, u'mat_filepath': u'/Volumes/database_disk/SpikeData/2009/electrophysiology/20090118/m/2009_01_18_0028.mat', u'con': 1.5}\n",
        "{u'valveseq': 6.0, u'pp': u'', u'_id': ObjectId('535a7da9515f9a22affd4354'), u'stimdur': 7500.0, u'timestamp': datetime.datetime(2009, 6, 1, 13, 19, 44), u'fnum': 29.0, u'prefill': 1.0, u'npulses': 1.0, u'etc': u'airflow(0.70L/min), miniPID(x5, med),flow2(2.8mL/min)', u'abf_filepath': u'/Volumes/database_disk/SpikeData/2009/electrophysiology/20090118/2009_01_18_0029.abf', u'celltype': u'DM1PN', u'nsteps': 3.0, u'stimtype': u'1/100x Ethyl Acetate,71.3mL/min', u'fnhead': u'2009_01_18_', u'Iin': 0.0, u'stimstart': 5000.0, u'mat_filepath': u'/Volumes/database_disk/SpikeData/2009/electrophysiology/20090118/m/2009_01_18_0029.mat', u'con': 9.2}\n",
        "{u'valveseq': u'c', u'pp': u'', u'_id': ObjectId('535a7da9515f9a22affd4355'), u'stimdur': 7500.0, u'timestamp': datetime.datetime(2009, 6, 1, 13, 19, 44), u'fnum': 30.0, u'prefill': 1.0, u'npulses': 1.0, u'etc': u'airflow(0.70L/min), miniPID(x5, med),flow2(-0.2mL/min)', u'abf_filepath': u'/Volumes/database_disk/SpikeData/2009/electrophysiology/20090118/2009_01_18_0030.abf', u'celltype': u'DM1PN', u'nsteps': 3.0, u'stimtype': u'1/1000x Ethyl Acetate,0.1mL/min', u'fnhead': u'2009_01_18_', u'Iin': 0.0, u'stimstart': 5000.0, u'mat_filepath': u'/Volumes/database_disk/SpikeData/2009/electrophysiology/20090118/m/2009_01_18_0030.mat', u'con': 0.0}\n",
        "{u'valveseq': u'c', u'pp': u'', u'_id': ObjectId('535a7da9515f9a22affd4356'), u'stimdur': 7500.0, u'timestamp': datetime.datetime(2009, 6, 1, 13, 19, 45), u'fnum': 31.0, u'prefill': 1.0, u'npulses': 1.0, u'etc': u'airflow(0.70L/min), miniPID(x5, med),flow2(2.7mL/min)', u'abf_filepath': u'/Volumes/database_disk/SpikeData/2009/electrophysiology/20090118/2009_01_18_0031.abf', u'celltype': u'DM1PN', u'nsteps': 3.0, u'stimtype': u'just air flow,69.6mL/min', u'fnhead': u'2009_01_18_', u'Iin': 0.0, u'stimstart': 5000.0, u'mat_filepath': u'/Volumes/database_disk/SpikeData/2009/electrophysiology/20090118/m/2009_01_18_0031.mat', u'con': 9.0}\n",
        "{u'valveseq': u'c', u'pp': u'', u'_id': ObjectId('535a7da9515f9a22affd4357'), u'stimdur': 7500.0, u'timestamp': datetime.datetime(2009, 6, 1, 13, 19, 45), u'fnum': 32.0, u'prefill': 1.0, u'npulses': 1.0, u'etc': u'airflow(0.70L/min), miniPID(x5, med),flow2(1.5mL/min)', u'abf_filepath': u'/Volumes/database_disk/SpikeData/2009/electrophysiology/20090118/2009_01_18_0032.abf', u'celltype': u'DM1PN', u'nsteps': 3.0, u'stimtype': u'1/1000x Ethyl Acetate,39.5mL/min', u'fnhead': u'2009_01_18_', u'Iin': 0.0, u'stimstart': 5000.0, u'mat_filepath': u'/Volumes/database_disk/SpikeData/2009/electrophysiology/20090118/m/2009_01_18_0032.mat', u'con': 5.4}\n",
        "{u'valveseq': 6.0, u'pp': u'', u'_id': ObjectId('535a7da9515f9a22affd4358'), u'stimdur': 7500.0, u'timestamp': datetime.datetime(2009, 6, 1, 13, 19, 45), u'fnum': 33.0, u'prefill': 1.0, u'npulses': 1.0, u'etc': u'airflow(0.70L/min), miniPID(x5, med),flow2(0.6mL/min)', u'abf_filepath': u'/Volumes/database_disk/SpikeData/2009/electrophysiology/20090118/2009_01_18_0033.abf', u'celltype': u'DM1PN', u'nsteps': 3.0, u'stimtype': u'1/100x Ethyl Acetate,19.8mL/min', u'fnhead': u'2009_01_18_', u'Iin': 0.0, u'stimstart': 5000.0, u'mat_filepath': u'/Volumes/database_disk/SpikeData/2009/electrophysiology/20090118/m/2009_01_18_0033.mat', u'con': 2.8}\n",
        "{u'valveseq': 6.0, u'pp': u'', u'_id': ObjectId('535a7da9515f9a22affd4359'), u'stimdur': 7500.0, u'timestamp': datetime.datetime(2009, 6, 1, 13, 19, 45), u'fnum': 34.0, u'prefill': 1.0, u'npulses': 1.0, u'etc': u'airflow(0.70L/min), miniPID(x5, med),flow2(1.5mL/min)', u'abf_filepath': u'/Volumes/database_disk/SpikeData/2009/electrophysiology/20090118/2009_01_18_0034.abf', u'celltype': u'DM1PN', u'nsteps': 3.0, u'stimtype': u'1/100x Ethyl Acetate,40.4mL/min', u'fnhead': u'2009_01_18_', u'Iin': 0.0, u'stimstart': 5000.0, u'mat_filepath': u'/Volumes/database_disk/SpikeData/2009/electrophysiology/20090118/m/2009_01_18_0034.mat', u'con': 5.5}\n",
        "{u'valveseq': 6.0, u'pp': u'', u'_id': ObjectId('535a7da9515f9a22affd435a'), u'stimdur': 7500.0, u'timestamp': datetime.datetime(2009, 6, 1, 13, 19, 46), u'fnum': 35.0, u'prefill': 1.0, u'npulses': 1.0, u'etc': u'airflow(0.70L/min), miniPID(x5, med),flow2(0.2mL/min)', u'abf_filepath': u'/Volumes/database_disk/SpikeData/2009/electrophysiology/20090118/2009_01_18_0035.abf', u'celltype': u'DM1PN', u'nsteps': 3.0, u'stimtype': u'1/100x Ethyl Acetate,10.0mL/min', u'fnhead': u'2009_01_18_', u'Iin': 0.0, u'stimstart': 5000.0, u'mat_filepath': u'/Volumes/database_disk/SpikeData/2009/electrophysiology/20090118/m/2009_01_18_0035.mat', u'con': 1.4}\n",
        "{u'valveseq': u'c', u'pp': u'', u'_id': ObjectId('535a7da9515f9a22affd435b'), u'stimdur': 7500.0, u'timestamp': datetime.datetime(2009, 6, 1, 13, 19, 46), u'fnum': 36.0, u'prefill': 1.0, u'npulses': 1.0, u'etc': u'airflow(0.70L/min), miniPID(x5, med),flow2(0.7mL/min)', u'abf_filepath': u'/Volumes/database_disk/SpikeData/2009/electrophysiology/20090118/2009_01_18_0036.abf', u'celltype': u'DM1PN', u'nsteps': 3.0, u'stimtype': u'1/1000x Ethyl Acetate,20.2mL/min', u'fnhead': u'2009_01_18_', u'Iin': 0.0, u'stimstart': 5000.0, u'mat_filepath': u'/Volumes/database_disk/SpikeData/2009/electrophysiology/20090118/m/2009_01_18_0036.mat', u'con': 2.8}\n",
        "{u'valveseq': u'c', u'pp': u'', u'_id': ObjectId('535a7da9515f9a22affd435c'), u'stimdur': 7500.0, u'timestamp': datetime.datetime(2009, 6, 1, 13, 19, 46), u'fnum': 37.0, u'prefill': 1.0, u'npulses': 1.0, u'etc': u'airflow(0.70L/min), miniPID(x5, med),flow2(1.5mL/min)', u'abf_filepath': u'/Volumes/database_disk/SpikeData/2009/electrophysiology/20090118/2009_01_18_0037.abf', u'celltype': u'DM1PN', u'nsteps': 3.0, u'stimtype': u'1/1000x Ethyl Acetate,40.4mL/min', u'fnhead': u'2009_01_18_', u'Iin': 0.0, u'stimstart': 5000.0, u'mat_filepath': u'/Volumes/database_disk/SpikeData/2009/electrophysiology/20090118/m/2009_01_18_0037.mat', u'con': 5.5}\n",
        "{u'valveseq': u'c', u'pp': u'', u'_id': ObjectId('535a7da9515f9a22affd435d'), u'stimdur': 7500.0, u'timestamp': datetime.datetime(2009, 6, 1, 13, 19, 47), u'fnum': 38.0, u'prefill': 1.0, u'npulses': 1.0, u'etc': u'airflow(0.70L/min), miniPID(x5, med),flow2(0.2mL/min)', u'abf_filepath': u'/Volumes/database_disk/SpikeData/2009/electrophysiology/20090118/2009_01_18_0038.abf', u'celltype': u'DM1PN', u'nsteps': 3.0, u'stimtype': u'1/1000x Ethyl Acetate,9.8mL/min', u'fnhead': u'2009_01_18_', u'Iin': 0.0, u'stimstart': 5000.0, u'mat_filepath': u'/Volumes/database_disk/SpikeData/2009/electrophysiology/20090118/m/2009_01_18_0038.mat', u'con': 1.4}\n",
        "{u'valveseq': 6.0, u'pp': u'', u'_id': ObjectId('535a7da9515f9a22affd435e'), u'stimdur': 7500.0, u'timestamp': datetime.datetime(2009, 6, 1, 13, 19, 47), u'fnum': 39.0, u'prefill': 1.0, u'npulses': 1.0, u'etc': u'airflow(0.70L/min), miniPID(x5, med),flow2(0.3mL/min)', u'abf_filepath': u'/Volumes/database_disk/SpikeData/2009/electrophysiology/20090118/2009_01_18_0039.abf', u'celltype': u'DM1PN', u'nsteps': 3.0, u'stimtype': u'1/100x Ethyl Acetate,10.4mL/min', u'fnhead': u'2009_01_18_', u'Iin': 0.0, u'stimstart': 5000.0, u'mat_filepath': u'/Volumes/database_disk/SpikeData/2009/electrophysiology/20090118/m/2009_01_18_0039.mat', u'con': 1.5}\n",
        "{u'valveseq': 6.0, u'pp': u'', u'_id': ObjectId('535a7da9515f9a22affd435f'), u'stimdur': 7500.0, u'timestamp': datetime.datetime(2009, 6, 1, 13, 19, 47), u'fnum': 40.0, u'prefill': 1.0, u'npulses': 1.0, u'etc': u'airflow(0.70L/min), miniPID(x5, med),flow2(0.3mL/min)', u'abf_filepath': u'/Volumes/database_disk/SpikeData/2009/electrophysiology/20090118/2009_01_18_0040.abf', u'celltype': u'DM1PN', u'nsteps': 3.0, u'stimtype': u'1/100x Ethyl Acetate,10.3mL/min', u'fnhead': u'2009_01_18_', u'Iin': 0.0, u'stimstart': 5000.0, u'mat_filepath': u'/Volumes/database_disk/SpikeData/2009/electrophysiology/20090118/m/2009_01_18_0040.mat', u'con': 1.4}\n",
        "{u'valveseq': 6.0, u'pp': u'', u'_id': ObjectId('535a7da9515f9a22affd4360'), u'stimdur': 7500.0, u'timestamp': datetime.datetime(2009, 6, 1, 13, 19, 48), u'fnum': 41.0, u'prefill': 1.0, u'npulses': 1.0, u'etc': u'airflow(0.70L/min), miniPID(x5, med),flow2(0.2mL/min)', u'abf_filepath': u'/Volumes/database_disk/SpikeData/2009/electrophysiology/20090118/2009_01_18_0041.abf', u'celltype': u'DM1PN', u'nsteps': 3.0, u'stimtype': u'1/100x Ethyl Acetate,10.0mL/min', u'fnhead': u'2009_01_18_', u'Iin': 0.0, u'stimstart': 5000.0, u'mat_filepath': u'/Volumes/database_disk/SpikeData/2009/electrophysiology/20090118/m/2009_01_18_0041.mat', u'con': 1.4}\n",
        "{u'valveseq': u'c', u'pp': u'', u'_id': ObjectId('535a7da9515f9a22affd4361'), u'stimdur': 7500.0, u'timestamp': datetime.datetime(2009, 6, 1, 13, 19, 48), u'fnum': 42.0, u'prefill': 1.0, u'npulses': 1.0, u'etc': u'airflow(0.70L/min), miniPID(x5, med),flow2(0.3mL/min)', u'abf_filepath': u'/Volumes/database_disk/SpikeData/2009/electrophysiology/20090118/2009_01_18_0042.abf', u'celltype': u'DM1PN', u'nsteps': 3.0, u'stimtype': u'1/1000x Ethyl Acetate,10.4mL/min', u'fnhead': u'2009_01_18_', u'Iin': 0.0, u'stimstart': 5000.0, u'mat_filepath': u'/Volumes/database_disk/SpikeData/2009/electrophysiology/20090118/m/2009_01_18_0042.mat', u'con': 1.5}\n",
        "{u'valveseq': u'c', u'pp': u'', u'_id': ObjectId('535a7da9515f9a22affd4362'), u'stimdur': 7500.0, u'timestamp': datetime.datetime(2009, 6, 1, 13, 19, 48), u'fnum': 43.0, u'prefill': 1.0, u'npulses': 1.0, u'etc': u'airflow(0.70L/min), miniPID(x5, med),flow2(0.2mL/min)', u'abf_filepath': u'/Volumes/database_disk/SpikeData/2009/electrophysiology/20090118/2009_01_18_0043.abf', u'celltype': u'DM1PN', u'nsteps': 3.0, u'stimtype': u'1/1000x Ethyl Acetate,9.9mL/min', u'fnhead': u'2009_01_18_', u'Iin': 0.0, u'stimstart': 5000.0, u'mat_filepath': u'/Volumes/database_disk/SpikeData/2009/electrophysiology/20090118/m/2009_01_18_0043.mat', u'con': 1.4}\n",
        "{u'valveseq': u'c', u'pp': u'', u'_id': ObjectId('535a7da9515f9a22affd4363'), u'stimdur': 7500.0, u'timestamp': datetime.datetime(2009, 6, 1, 13, 19, 48), u'fnum': 44.0, u'prefill': 1.0, u'npulses': 1.0, u'etc': u'airflow(0.70L/min), miniPID(x5, med),flow2(0.3mL/min)', u'abf_filepath': u'/Volumes/database_disk/SpikeData/2009/electrophysiology/20090118/2009_01_18_0044.abf', u'celltype': u'DM1PN', u'nsteps': 3.0, u'stimtype': u'1/1000x Ethyl Acetate,10.3mL/min', u'fnhead': u'2009_01_18_', u'Iin': 0.0, u'stimstart': 5000.0, u'mat_filepath': u'/Volumes/database_disk/SpikeData/2009/electrophysiology/20090118/m/2009_01_18_0044.mat', u'con': 1.5}\n",
        "{u'valveseq': 6.0, u'pp': u'', u'_id': ObjectId('535a7da9515f9a22affd4364'), u'stimdur': 7500.0, u'timestamp': datetime.datetime(2009, 6, 1, 13, 19, 49), u'fnum': 45.0, u'prefill': 1.0, u'npulses': 1.0, u'etc': u'airflow(0.70L/min), miniPID(x5, med),flow2(2.8mL/min)', u'abf_filepath': u'/Volumes/database_disk/SpikeData/2009/electrophysiology/20090118/2009_01_18_0045.abf', u'celltype': u'DM1PN', u'nsteps': 3.0, u'stimtype': u'1/100x Ethyl Acetate,71.1mL/min', u'fnhead': u'2009_01_18_', u'Iin': 0.0, u'stimstart': 5000.0, u'mat_filepath': u'/Volumes/database_disk/SpikeData/2009/electrophysiology/20090118/m/2009_01_18_0045.mat', u'con': 9.2}\n",
        "{u'valveseq': u'c', u'pp': u'', u'_id': ObjectId('535a7da9515f9a22affd4365'), u'stimdur': 7500.0, u'timestamp': datetime.datetime(2009, 6, 1, 13, 19, 49), u'fnum': 46.0, u'prefill': 1.0, u'npulses': 1.0, u'etc': u'airflow(0.70L/min), miniPID(x5, med),flow2(-0.2mL/min)', u'abf_filepath': u'/Volumes/database_disk/SpikeData/2009/electrophysiology/20090118/2009_01_18_0046.abf', u'celltype': u'DM1PN', u'nsteps': 3.0, u'stimtype': u'1/1000x Ethyl Acetate,0.1mL/min', u'fnhead': u'2009_01_18_', u'Iin': 0.0, u'stimstart': 5000.0, u'mat_filepath': u'/Volumes/database_disk/SpikeData/2009/electrophysiology/20090118/m/2009_01_18_0046.mat', u'con': 0.0}\n",
        "{u'valveseq': u'c', u'pp': u'', u'_id': ObjectId('535a7da9515f9a22affd4366'), u'stimdur': 7500.0, u'timestamp': datetime.datetime(2009, 6, 1, 13, 19, 49), u'fnum': 47.0, u'prefill': 1.0, u'npulses': 1.0, u'etc': u'airflow(0.70L/min), miniPID(x5, med),flow2(2.7mL/min)', u'abf_filepath': u'/Volumes/database_disk/SpikeData/2009/electrophysiology/20090118/2009_01_18_0047.abf', u'celltype': u'DM1PN', u'nsteps': 3.0, u'stimtype': u'just air flow,69.8mL/min', u'fnhead': u'2009_01_18_', u'Iin': 0.0, u'stimstart': 5000.0, u'mat_filepath': u'/Volumes/database_disk/SpikeData/2009/electrophysiology/20090118/m/2009_01_18_0047.mat', u'con': 9.1}\n",
        "{u'valveseq': u'c', u'pp': u'', u'_id': ObjectId('535a7da9515f9a22affd4367'), u'stimdur': 7500.0, u'timestamp': datetime.datetime(2009, 6, 1, 13, 19, 50), u'fnum': 48.0, u'prefill': 1.0, u'npulses': 1.0, u'etc': u'airflow(0.70L/min), miniPID(x5, med),flow2(2.7mL/min)', u'abf_filepath': u'/Volumes/database_disk/SpikeData/2009/electrophysiology/20090118/2009_01_18_0048.abf', u'celltype': u'DM1PN', u'nsteps': 3.0, u'stimtype': u'just air flow,69.8mL/min', u'fnhead': u'2009_01_18_', u'Iin': 0.0, u'stimstart': 5000.0, u'mat_filepath': u'/Volumes/database_disk/SpikeData/2009/electrophysiology/20090118/m/2009_01_18_0048.mat', u'con': 9.0}\n",
        "{u'valveseq': 6.0, u'pp': u'', u'_id': ObjectId('535a7da9515f9a22affd4368'), u'stimdur': 7500.0, u'timestamp': datetime.datetime(2009, 6, 1, 13, 19, 50), u'fnum': 49.0, u'prefill': 1.0, u'npulses': 1.0, u'etc': u'airflow(0.70L/min), miniPID(x5, med),flow2(0.6mL/min)', u'abf_filepath': u'/Volumes/database_disk/SpikeData/2009/electrophysiology/20090118/2009_01_18_0049.abf', u'celltype': u'DM1PN', u'nsteps': 3.0, u'stimtype': u'1/100x Ethyl Acetate,19.7mL/min', u'fnhead': u'2009_01_18_', u'Iin': 0.0, u'stimstart': 5000.0, u'mat_filepath': u'/Volumes/database_disk/SpikeData/2009/electrophysiology/20090118/m/2009_01_18_0049.mat', u'con': 2.7}\n",
        "{u'valveseq': 6.0, u'pp': u'', u'_id': ObjectId('535a7da9515f9a22affd4369'), u'stimdur': 7500.0, u'timestamp': datetime.datetime(2009, 6, 1, 13, 19, 50), u'fnum': 50.0, u'prefill': 1.0, u'npulses': 1.0, u'etc': u'airflow(0.70L/min), miniPID(x5, med),flow2(1.5mL/min)', u'abf_filepath': u'/Volumes/database_disk/SpikeData/2009/electrophysiology/20090118/2009_01_18_0050.abf', u'celltype': u'DM1PN', u'nsteps': 3.0, u'stimtype': u'1/100x Ethyl Acetate,40.5mL/min', u'fnhead': u'2009_01_18_', u'Iin': 0.0, u'stimstart': 5000.0, u'mat_filepath': u'/Volumes/database_disk/SpikeData/2009/electrophysiology/20090118/m/2009_01_18_0050.mat', u'con': 5.5}\n",
        "{u'valveseq': 6.0, u'pp': u'', u'_id': ObjectId('535a7da9515f9a22affd436a'), u'stimdur': 7500.0, u'timestamp': datetime.datetime(2009, 6, 1, 13, 19, 50), u'fnum': 51.0, u'prefill': 1.0, u'npulses': 1.0, u'etc': u'airflow(0.70L/min), miniPID(x5, med),flow2(0.2mL/min)', u'abf_filepath': u'/Volumes/database_disk/SpikeData/2009/electrophysiology/20090118/2009_01_18_0051.abf', u'celltype': u'DM1PN', u'nsteps': 3.0, u'stimtype': u'1/100x Ethyl Acetate,9.9mL/min', u'fnhead': u'2009_01_18_', u'Iin': 0.0, u'stimstart': 5000.0, u'mat_filepath': u'/Volumes/database_disk/SpikeData/2009/electrophysiology/20090118/m/2009_01_18_0051.mat', u'con': 1.4}\n",
        "{u'valveseq': u'c', u'pp': u'', u'_id': ObjectId('535a7da9515f9a22affd436b'), u'stimdur': 7500.0, u'timestamp': datetime.datetime(2009, 6, 1, 13, 19, 51), u'fnum': 52.0, u'prefill': 1.0, u'npulses': 1.0, u'etc': u'airflow(0.70L/min), miniPID(x5, med),flow2(0.7mL/min)', u'abf_filepath': u'/Volumes/database_disk/SpikeData/2009/electrophysiology/20090118/2009_01_18_0052.abf', u'celltype': u'DM1PN', u'nsteps': 3.0, u'stimtype': u'1/1000x Ethyl Acetate,20.5mL/min', u'fnhead': u'2009_01_18_', u'Iin': 0.0, u'stimstart': 5000.0, u'mat_filepath': u'/Volumes/database_disk/SpikeData/2009/electrophysiology/20090118/m/2009_01_18_0052.mat', u'con': 2.8}\n",
        "{u'valveseq': u'c', u'pp': u'', u'_id': ObjectId('535a7da9515f9a22affd436c'), u'stimdur': 7500.0, u'timestamp': datetime.datetime(2009, 6, 1, 13, 19, 51), u'fnum': 53.0, u'prefill': 1.0, u'npulses': 1.0, u'etc': u'airflow(0.70L/min), miniPID(x5, med),flow2(1.5mL/min)', u'abf_filepath': u'/Volumes/database_disk/SpikeData/2009/electrophysiology/20090118/2009_01_18_0053.abf', u'celltype': u'DM1PN', u'nsteps': 3.0, u'stimtype': u'1/1000x Ethyl Acetate,40.4mL/min', u'fnhead': u'2009_01_18_', u'Iin': 0.0, u'stimstart': 5000.0, u'mat_filepath': u'/Volumes/database_disk/SpikeData/2009/electrophysiology/20090118/m/2009_01_18_0053.mat', u'con': 5.5}\n",
        "{u'valveseq': u'c', u'pp': u'', u'_id': ObjectId('535a7da9515f9a22affd436d'), u'stimdur': 7500.0, u'timestamp': datetime.datetime(2009, 6, 1, 13, 19, 51), u'fnum': 54.0, u'prefill': 1.0, u'npulses': 1.0, u'etc': u'airflow(0.70L/min), miniPID(x5, med),flow2(0.2mL/min)', u'abf_filepath': u'/Volumes/database_disk/SpikeData/2009/electrophysiology/20090118/2009_01_18_0054.abf', u'celltype': u'DM1PN', u'nsteps': 3.0, u'stimtype': u'1/1000x Ethyl Acetate,9.8mL/min', u'fnhead': u'2009_01_18_', u'Iin': 0.0, u'stimstart': 5000.0, u'mat_filepath': u'/Volumes/database_disk/SpikeData/2009/electrophysiology/20090118/m/2009_01_18_0054.mat', u'con': 1.4}\n",
        "{u'valveseq': 6.0, u'pp': u'', u'_id': ObjectId('535a7da9515f9a22affd436e'), u'stimdur': 7500.0, u'timestamp': datetime.datetime(2009, 6, 1, 13, 19, 52), u'fnum': 55.0, u'prefill': 1.0, u'npulses': 1.0, u'etc': u'airflow(0.70L/min), miniPID(x5, med),flow2(0.3mL/min)', u'abf_filepath': u'/Volumes/database_disk/SpikeData/2009/electrophysiology/20090118/2009_01_18_0055.abf', u'celltype': u'DM1PN', u'nsteps': 3.0, u'stimtype': u'1/100x Ethyl Acetate,10.6mL/min', u'fnhead': u'2009_01_18_', u'Iin': 0.0, u'stimstart': 5000.0, u'mat_filepath': u'/Volumes/database_disk/SpikeData/2009/electrophysiology/20090118/m/2009_01_18_0055.mat', u'con': 1.5}\n",
        "{u'valveseq': 6.0, u'pp': u'', u'_id': ObjectId('535a7da9515f9a22affd436f'), u'stimdur': 7500.0, u'timestamp': datetime.datetime(2009, 6, 1, 13, 19, 52), u'fnum': 56.0, u'prefill': 1.0, u'npulses': 1.0, u'etc': u'airflow(0.70L/min), miniPID(x5, med),flow2(0.2mL/min)', u'abf_filepath': u'/Volumes/database_disk/SpikeData/2009/electrophysiology/20090118/2009_01_18_0056.abf', u'celltype': u'DM1PN', u'nsteps': 3.0, u'stimtype': u'1/100x Ethyl Acetate,10.1mL/min', u'fnhead': u'2009_01_18_', u'Iin': 0.0, u'stimstart': 5000.0, u'mat_filepath': u'/Volumes/database_disk/SpikeData/2009/electrophysiology/20090118/m/2009_01_18_0056.mat', u'con': 1.4}\n",
        "{u'valveseq': 6.0, u'pp': u'', u'_id': ObjectId('535a7da9515f9a22affd4370'), u'stimdur': 7500.0, u'timestamp': datetime.datetime(2009, 6, 1, 13, 19, 52), u'fnum': 57.0, u'prefill': 1.0, u'npulses': 1.0, u'etc': u'airflow(0.70L/min), miniPID(x5, med),flow2(0.3mL/min)', u'abf_filepath': u'/Volumes/database_disk/SpikeData/2009/electrophysiology/20090118/2009_01_18_0057.abf', u'celltype': u'DM1PN', u'nsteps': 3.0, u'stimtype': u'1/100x Ethyl Acetate,10.3mL/min', u'fnhead': u'2009_01_18_', u'Iin': 0.0, u'stimstart': 5000.0, u'mat_filepath': u'/Volumes/database_disk/SpikeData/2009/electrophysiology/20090118/m/2009_01_18_0057.mat', u'con': 1.4}\n",
        "{u'valveseq': u'c', u'pp': u'', u'_id': ObjectId('535a7da9515f9a22affd4371'), u'stimdur': 7500.0, u'timestamp': datetime.datetime(2009, 6, 1, 13, 19, 53), u'fnum': 58.0, u'prefill': 1.0, u'npulses': 1.0, u'etc': u'airflow(0.70L/min), miniPID(x5, med),flow2(0.2mL/min)', u'abf_filepath': u'/Volumes/database_disk/SpikeData/2009/electrophysiology/20090118/2009_01_18_0058.abf', u'celltype': u'DM1PN', u'nsteps': 3.0, u'stimtype': u'1/1000x Ethyl Acetate,10.1mL/min', u'fnhead': u'2009_01_18_', u'Iin': 0.0, u'stimstart': 5000.0, u'mat_filepath': u'/Volumes/database_disk/SpikeData/2009/electrophysiology/20090118/m/2009_01_18_0058.mat', u'con': 1.4}\n",
        "{u'valveseq': u'c', u'pp': u'', u'_id': ObjectId('535a7da9515f9a22affd4372'), u'stimdur': 7500.0, u'timestamp': datetime.datetime(2009, 6, 1, 13, 19, 53), u'fnum': 59.0, u'prefill': 1.0, u'npulses': 1.0, u'etc': u'airflow(0.70L/min), miniPID(x5, med),flow2(0.3mL/min)', u'abf_filepath': u'/Volumes/database_disk/SpikeData/2009/electrophysiology/20090118/2009_01_18_0059.abf', u'celltype': u'DM1PN', u'nsteps': 3.0, u'stimtype': u'1/1000x Ethyl Acetate,10.3mL/min', u'fnhead': u'2009_01_18_', u'Iin': 0.0, u'stimstart': 5000.0, u'mat_filepath': u'/Volumes/database_disk/SpikeData/2009/electrophysiology/20090118/m/2009_01_18_0059.mat', u'con': 1.5}\n",
        "{u'valveseq': u'c', u'pp': u'', u'_id': ObjectId('535a7da9515f9a22affd4373'), u'stimdur': 7500.0, u'timestamp': datetime.datetime(2009, 6, 1, 13, 19, 53), u'fnum': 60.0, u'prefill': 1.0, u'npulses': 1.0, u'etc': u'airflow(0.70L/min), miniPID(x5, med),flow2(0.3mL/min)', u'abf_filepath': u'/Volumes/database_disk/SpikeData/2009/electrophysiology/20090118/2009_01_18_0060.abf', u'celltype': u'DM1PN', u'nsteps': 3.0, u'stimtype': u'1/1000x Ethyl Acetate,10.3mL/min', u'fnhead': u'2009_01_18_', u'Iin': 0.0, u'stimstart': 5000.0, u'mat_filepath': u'/Volumes/database_disk/SpikeData/2009/electrophysiology/20090118/m/2009_01_18_0060.mat', u'con': 1.4}\n",
        "{u'valveseq': 6.0, u'pp': u'', u'_id': ObjectId('535a7da9515f9a22affd4374'), u'stimdur': 7500.0, u'timestamp': datetime.datetime(2009, 6, 1, 13, 19, 54), u'fnum': 61.0, u'prefill': 1.0, u'npulses': 1.0, u'etc': u'airflow(0.70L/min), miniPID(x5, med),flow2(2.8mL/min)', u'abf_filepath': u'/Volumes/database_disk/SpikeData/2009/electrophysiology/20090118/2009_01_18_0061.abf', u'celltype': u'DM1PN', u'nsteps': 3.0, u'stimtype': u'1/100x Ethyl Acetate,71.3mL/min', u'fnhead': u'2009_01_18_', u'Iin': 0.0, u'stimstart': 5000.0, u'mat_filepath': u'/Volumes/database_disk/SpikeData/2009/electrophysiology/20090118/m/2009_01_18_0061.mat', u'con': 9.2}\n",
        "{u'valveseq': u'c', u'pp': u'', u'_id': ObjectId('535a7da9515f9a22affd4375'), u'stimdur': 7500.0, u'timestamp': datetime.datetime(2009, 6, 1, 13, 19, 54), u'fnum': 62.0, u'prefill': 1.0, u'npulses': 1.0, u'etc': u'airflow(0.70L/min), miniPID(x5, med),flow2(-0.2mL/min)', u'abf_filepath': u'/Volumes/database_disk/SpikeData/2009/electrophysiology/20090118/2009_01_18_0062.abf', u'celltype': u'DM1PN', u'nsteps': 3.0, u'stimtype': u'1/1000x Ethyl Acetate,0.1mL/min', u'fnhead': u'2009_01_18_', u'Iin': 0.0, u'stimstart': 5000.0, u'mat_filepath': u'/Volumes/database_disk/SpikeData/2009/electrophysiology/20090118/m/2009_01_18_0062.mat', u'con': 0.0}\n",
        "{u'valveseq': u'c', u'pp': u'', u'_id': ObjectId('535a7da9515f9a22affd4376'), u'stimdur': 7500.0, u'timestamp': datetime.datetime(2009, 6, 1, 13, 19, 54), u'fnum': 63.0, u'prefill': 1.0, u'npulses': 1.0, u'etc': u'airflow(0.70L/min), miniPID(x5, med),flow2(2.7mL/min)', u'abf_filepath': u'/Volumes/database_disk/SpikeData/2009/electrophysiology/20090118/2009_01_18_0063.abf', u'celltype': u'DM1PN', u'nsteps': 3.0, u'stimtype': u'just air flow,69.8mL/min', u'fnhead': u'2009_01_18_', u'Iin': 0.0, u'stimstart': 5000.0, u'mat_filepath': u'/Volumes/database_disk/SpikeData/2009/electrophysiology/20090118/m/2009_01_18_0063.mat', u'con': 9.1}\n"
       ]
      },
      {
       "metadata": {},
       "output_type": "pyout",
       "prompt_number": 5,
       "text": [
        "81"
       ]
      }
     ],
     "prompt_number": 5
    },
    {
     "cell_type": "code",
     "collapsed": false,
     "input": [
      "SpikeDB.insert_input_signal(collection)"
     ],
     "language": "python",
     "metadata": {},
     "outputs": [
      {
       "output_type": "stream",
       "stream": "stdout",
       "text": [
        "0\n",
        "1\n",
        "2"
       ]
      },
      {
       "output_type": "stream",
       "stream": "stdout",
       "text": [
        "\n",
        "3\n",
        "4"
       ]
      },
      {
       "output_type": "stream",
       "stream": "stdout",
       "text": [
        "\n",
        "5\n",
        "6"
       ]
      },
      {
       "output_type": "stream",
       "stream": "stdout",
       "text": [
        "\n",
        "7\n",
        "8"
       ]
      },
      {
       "output_type": "stream",
       "stream": "stdout",
       "text": [
        "\n",
        "9\n",
        "10"
       ]
      },
      {
       "output_type": "stream",
       "stream": "stdout",
       "text": [
        "\n",
        "11\n",
        "12"
       ]
      },
      {
       "output_type": "stream",
       "stream": "stdout",
       "text": [
        "\n",
        "13\n",
        "14"
       ]
      },
      {
       "output_type": "stream",
       "stream": "stdout",
       "text": [
        "\n",
        "15\n",
        "16"
       ]
      },
      {
       "output_type": "stream",
       "stream": "stdout",
       "text": [
        "\n",
        "17\n",
        "18"
       ]
      },
      {
       "output_type": "stream",
       "stream": "stdout",
       "text": [
        "\n",
        "19\n",
        "20"
       ]
      },
      {
       "output_type": "stream",
       "stream": "stdout",
       "text": [
        "\n",
        "21\n",
        "22"
       ]
      },
      {
       "output_type": "stream",
       "stream": "stdout",
       "text": [
        "\n",
        "23\n",
        "24"
       ]
      },
      {
       "output_type": "stream",
       "stream": "stdout",
       "text": [
        "\n",
        "25\n",
        "26"
       ]
      },
      {
       "output_type": "stream",
       "stream": "stdout",
       "text": [
        "\n",
        "27\n",
        "28"
       ]
      },
      {
       "output_type": "stream",
       "stream": "stdout",
       "text": [
        "\n",
        "29\n",
        "30"
       ]
      },
      {
       "output_type": "stream",
       "stream": "stdout",
       "text": [
        "\n",
        "31\n",
        "32"
       ]
      },
      {
       "output_type": "stream",
       "stream": "stdout",
       "text": [
        "\n",
        "33\n",
        "34"
       ]
      },
      {
       "output_type": "stream",
       "stream": "stdout",
       "text": [
        "\n",
        "35\n",
        "36"
       ]
      },
      {
       "output_type": "stream",
       "stream": "stdout",
       "text": [
        "\n",
        "37\n",
        "38"
       ]
      },
      {
       "output_type": "stream",
       "stream": "stdout",
       "text": [
        "\n",
        "39\n",
        "40"
       ]
      },
      {
       "output_type": "stream",
       "stream": "stdout",
       "text": [
        "\n",
        "41\n",
        "42"
       ]
      },
      {
       "output_type": "stream",
       "stream": "stdout",
       "text": [
        "\n",
        "43\n",
        "44"
       ]
      },
      {
       "output_type": "stream",
       "stream": "stdout",
       "text": [
        "\n",
        "45\n",
        "46"
       ]
      },
      {
       "output_type": "stream",
       "stream": "stdout",
       "text": [
        "\n",
        "47\n",
        "48"
       ]
      },
      {
       "output_type": "stream",
       "stream": "stdout",
       "text": [
        "\n",
        "49\n",
        "50"
       ]
      },
      {
       "output_type": "stream",
       "stream": "stdout",
       "text": [
        "\n",
        "51\n",
        "52"
       ]
      },
      {
       "output_type": "stream",
       "stream": "stdout",
       "text": [
        "\n",
        "53"
       ]
      },
      {
       "output_type": "stream",
       "stream": "stdout",
       "text": [
        "\n",
        "54"
       ]
      },
      {
       "output_type": "stream",
       "stream": "stdout",
       "text": [
        "\n",
        "55\n",
        "56"
       ]
      },
      {
       "output_type": "stream",
       "stream": "stdout",
       "text": [
        "\n",
        "57\n",
        "58"
       ]
      },
      {
       "output_type": "stream",
       "stream": "stdout",
       "text": [
        "\n",
        "59\n",
        "60"
       ]
      },
      {
       "output_type": "stream",
       "stream": "stdout",
       "text": [
        "\n",
        "61\n",
        "62"
       ]
      },
      {
       "output_type": "stream",
       "stream": "stdout",
       "text": [
        "\n",
        "63\n"
       ]
      }
     ],
     "prompt_number": 6
    },
    {
     "cell_type": "code",
     "collapsed": false,
     "input": [],
     "language": "python",
     "metadata": {},
     "outputs": []
    }
   ],
   "metadata": {}
  }
 ]
}